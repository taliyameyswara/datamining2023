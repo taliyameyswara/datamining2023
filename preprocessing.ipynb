{
  "nbformat": 4,
  "nbformat_minor": 0,
  "metadata": {
    "colab": {
      "provenance": [],
      "authorship_tag": "ABX9TyNhSInHjvQ7Fz36PBODa9HM",
      "include_colab_link": true
    },
    "kernelspec": {
      "name": "python3",
      "display_name": "Python 3"
    },
    "language_info": {
      "name": "python"
    }
  },
  "cells": [
    {
      "cell_type": "markdown",
      "metadata": {
        "id": "view-in-github",
        "colab_type": "text"
      },
      "source": [
        "<a href=\"https://colab.research.google.com/github/taliyameyswara/datamining2023/blob/main/preprocessing.ipynb\" target=\"_parent\"><img src=\"https://colab.research.google.com/assets/colab-badge.svg\" alt=\"Open In Colab\"/></a>"
      ]
    },
    {
      "cell_type": "markdown",
      "source": [
        "# Library\n",
        "1. **Numpy** merupakan library python untuk komputasi matriks\n",
        "2. **Matplotlib** merupakan library python untuk presentasi data berupa grafik/plot\n",
        "3. **Pandas** untuk mengimport data dari luar seperti csv\n",
        "\n"
      ],
      "metadata": {
        "id": "6GBJT-G-Vk4g"
      }
    },
    {
      "cell_type": "code",
      "execution_count": 2,
      "metadata": {
        "id": "xZ00Y4R5VSTu"
      },
      "outputs": [],
      "source": [
        "import numpy as np\n",
        "import matplotlib.pyplot as plt\n",
        "import pandas as pd"
      ]
    },
    {
      "cell_type": "markdown",
      "source": [
        "---\n",
        "Panggil file data (.csv) dengan library **Pandas** dan mencetak table data\n",
        "\n"
      ],
      "metadata": {
        "id": "a46sDfrBV5DM"
      }
    },
    {
      "cell_type": "markdown",
      "source": [],
      "metadata": {
        "id": "2ySZjATFXQ1O"
      }
    },
    {
      "cell_type": "code",
      "source": [
        "dataset = pd.read_csv('data_tugas3.csv')\n",
        "\n",
        "print(\"Jumlah data (baris, kolom):\", dataset.shape)\n",
        "\n",
        "# hanya 5 baris\n",
        "dataset.head()"
      ],
      "metadata": {
        "colab": {
          "base_uri": "https://localhost:8080/",
          "height": 224
        },
        "id": "NdFBi8bOWFiH",
        "outputId": "49fc0708-5338-4771-af1a-af356a3443fa"
      },
      "execution_count": 4,
      "outputs": [
        {
          "output_type": "stream",
          "name": "stdout",
          "text": [
            "Jumlah data (baris, kolom): (1000, 5)\n"
          ]
        },
        {
          "output_type": "execute_result",
          "data": {
            "text/plain": [
              "  Regist. Store of Customers           Comp nm     Sale amt  Visit Count  \\\n",
              "0                   SEMARANG          TOKO ALI  471032440.0          4.0   \n",
              "1                   SEMARANG  TOKO PUTRA HIDUP  306474400.0          2.0   \n",
              "2                   SEMARANG         TOKO EDIP          NaN          4.0   \n",
              "3                        NaN          IMA MART  228492000.0          NaN   \n",
              "4                   SEMARANG        TOKO RENNE  188544000.0          1.0   \n",
              "\n",
              "   Profit Amount  \n",
              "0       207971.0  \n",
              "1            NaN  \n",
              "2       349644.0  \n",
              "3    -11066354.0  \n",
              "4     -5927922.0  "
            ],
            "text/html": [
              "\n",
              "  <div id=\"df-a9bbfbf0-17fd-4d72-953a-001cc48b473a\" class=\"colab-df-container\">\n",
              "    <div>\n",
              "<style scoped>\n",
              "    .dataframe tbody tr th:only-of-type {\n",
              "        vertical-align: middle;\n",
              "    }\n",
              "\n",
              "    .dataframe tbody tr th {\n",
              "        vertical-align: top;\n",
              "    }\n",
              "\n",
              "    .dataframe thead th {\n",
              "        text-align: right;\n",
              "    }\n",
              "</style>\n",
              "<table border=\"1\" class=\"dataframe\">\n",
              "  <thead>\n",
              "    <tr style=\"text-align: right;\">\n",
              "      <th></th>\n",
              "      <th>Regist. Store of Customers</th>\n",
              "      <th>Comp nm</th>\n",
              "      <th>Sale amt</th>\n",
              "      <th>Visit Count</th>\n",
              "      <th>Profit Amount</th>\n",
              "    </tr>\n",
              "  </thead>\n",
              "  <tbody>\n",
              "    <tr>\n",
              "      <th>0</th>\n",
              "      <td>SEMARANG</td>\n",
              "      <td>TOKO ALI</td>\n",
              "      <td>471032440.0</td>\n",
              "      <td>4.0</td>\n",
              "      <td>207971.0</td>\n",
              "    </tr>\n",
              "    <tr>\n",
              "      <th>1</th>\n",
              "      <td>SEMARANG</td>\n",
              "      <td>TOKO PUTRA HIDUP</td>\n",
              "      <td>306474400.0</td>\n",
              "      <td>2.0</td>\n",
              "      <td>NaN</td>\n",
              "    </tr>\n",
              "    <tr>\n",
              "      <th>2</th>\n",
              "      <td>SEMARANG</td>\n",
              "      <td>TOKO EDIP</td>\n",
              "      <td>NaN</td>\n",
              "      <td>4.0</td>\n",
              "      <td>349644.0</td>\n",
              "    </tr>\n",
              "    <tr>\n",
              "      <th>3</th>\n",
              "      <td>NaN</td>\n",
              "      <td>IMA MART</td>\n",
              "      <td>228492000.0</td>\n",
              "      <td>NaN</td>\n",
              "      <td>-11066354.0</td>\n",
              "    </tr>\n",
              "    <tr>\n",
              "      <th>4</th>\n",
              "      <td>SEMARANG</td>\n",
              "      <td>TOKO RENNE</td>\n",
              "      <td>188544000.0</td>\n",
              "      <td>1.0</td>\n",
              "      <td>-5927922.0</td>\n",
              "    </tr>\n",
              "  </tbody>\n",
              "</table>\n",
              "</div>\n",
              "    <div class=\"colab-df-buttons\">\n",
              "\n",
              "  <div class=\"colab-df-container\">\n",
              "    <button class=\"colab-df-convert\" onclick=\"convertToInteractive('df-a9bbfbf0-17fd-4d72-953a-001cc48b473a')\"\n",
              "            title=\"Convert this dataframe to an interactive table.\"\n",
              "            style=\"display:none;\">\n",
              "\n",
              "  <svg xmlns=\"http://www.w3.org/2000/svg\" height=\"24px\" viewBox=\"0 -960 960 960\">\n",
              "    <path d=\"M120-120v-720h720v720H120Zm60-500h600v-160H180v160Zm220 220h160v-160H400v160Zm0 220h160v-160H400v160ZM180-400h160v-160H180v160Zm440 0h160v-160H620v160ZM180-180h160v-160H180v160Zm440 0h160v-160H620v160Z\"/>\n",
              "  </svg>\n",
              "    </button>\n",
              "\n",
              "  <style>\n",
              "    .colab-df-container {\n",
              "      display:flex;\n",
              "      gap: 12px;\n",
              "    }\n",
              "\n",
              "    .colab-df-convert {\n",
              "      background-color: #E8F0FE;\n",
              "      border: none;\n",
              "      border-radius: 50%;\n",
              "      cursor: pointer;\n",
              "      display: none;\n",
              "      fill: #1967D2;\n",
              "      height: 32px;\n",
              "      padding: 0 0 0 0;\n",
              "      width: 32px;\n",
              "    }\n",
              "\n",
              "    .colab-df-convert:hover {\n",
              "      background-color: #E2EBFA;\n",
              "      box-shadow: 0px 1px 2px rgba(60, 64, 67, 0.3), 0px 1px 3px 1px rgba(60, 64, 67, 0.15);\n",
              "      fill: #174EA6;\n",
              "    }\n",
              "\n",
              "    .colab-df-buttons div {\n",
              "      margin-bottom: 4px;\n",
              "    }\n",
              "\n",
              "    [theme=dark] .colab-df-convert {\n",
              "      background-color: #3B4455;\n",
              "      fill: #D2E3FC;\n",
              "    }\n",
              "\n",
              "    [theme=dark] .colab-df-convert:hover {\n",
              "      background-color: #434B5C;\n",
              "      box-shadow: 0px 1px 3px 1px rgba(0, 0, 0, 0.15);\n",
              "      filter: drop-shadow(0px 1px 2px rgba(0, 0, 0, 0.3));\n",
              "      fill: #FFFFFF;\n",
              "    }\n",
              "  </style>\n",
              "\n",
              "    <script>\n",
              "      const buttonEl =\n",
              "        document.querySelector('#df-a9bbfbf0-17fd-4d72-953a-001cc48b473a button.colab-df-convert');\n",
              "      buttonEl.style.display =\n",
              "        google.colab.kernel.accessAllowed ? 'block' : 'none';\n",
              "\n",
              "      async function convertToInteractive(key) {\n",
              "        const element = document.querySelector('#df-a9bbfbf0-17fd-4d72-953a-001cc48b473a');\n",
              "        const dataTable =\n",
              "          await google.colab.kernel.invokeFunction('convertToInteractive',\n",
              "                                                    [key], {});\n",
              "        if (!dataTable) return;\n",
              "\n",
              "        const docLinkHtml = 'Like what you see? Visit the ' +\n",
              "          '<a target=\"_blank\" href=https://colab.research.google.com/notebooks/data_table.ipynb>data table notebook</a>'\n",
              "          + ' to learn more about interactive tables.';\n",
              "        element.innerHTML = '';\n",
              "        dataTable['output_type'] = 'display_data';\n",
              "        await google.colab.output.renderOutput(dataTable, element);\n",
              "        const docLink = document.createElement('div');\n",
              "        docLink.innerHTML = docLinkHtml;\n",
              "        element.appendChild(docLink);\n",
              "      }\n",
              "    </script>\n",
              "  </div>\n",
              "\n",
              "\n",
              "<div id=\"df-60a8af11-84fa-4f29-89d9-ecb34c5b2aea\">\n",
              "  <button class=\"colab-df-quickchart\" onclick=\"quickchart('df-60a8af11-84fa-4f29-89d9-ecb34c5b2aea')\"\n",
              "            title=\"Suggest charts.\"\n",
              "            style=\"display:none;\">\n",
              "\n",
              "<svg xmlns=\"http://www.w3.org/2000/svg\" height=\"24px\"viewBox=\"0 0 24 24\"\n",
              "     width=\"24px\">\n",
              "    <g>\n",
              "        <path d=\"M19 3H5c-1.1 0-2 .9-2 2v14c0 1.1.9 2 2 2h14c1.1 0 2-.9 2-2V5c0-1.1-.9-2-2-2zM9 17H7v-7h2v7zm4 0h-2V7h2v10zm4 0h-2v-4h2v4z\"/>\n",
              "    </g>\n",
              "</svg>\n",
              "  </button>\n",
              "\n",
              "<style>\n",
              "  .colab-df-quickchart {\n",
              "      --bg-color: #E8F0FE;\n",
              "      --fill-color: #1967D2;\n",
              "      --hover-bg-color: #E2EBFA;\n",
              "      --hover-fill-color: #174EA6;\n",
              "      --disabled-fill-color: #AAA;\n",
              "      --disabled-bg-color: #DDD;\n",
              "  }\n",
              "\n",
              "  [theme=dark] .colab-df-quickchart {\n",
              "      --bg-color: #3B4455;\n",
              "      --fill-color: #D2E3FC;\n",
              "      --hover-bg-color: #434B5C;\n",
              "      --hover-fill-color: #FFFFFF;\n",
              "      --disabled-bg-color: #3B4455;\n",
              "      --disabled-fill-color: #666;\n",
              "  }\n",
              "\n",
              "  .colab-df-quickchart {\n",
              "    background-color: var(--bg-color);\n",
              "    border: none;\n",
              "    border-radius: 50%;\n",
              "    cursor: pointer;\n",
              "    display: none;\n",
              "    fill: var(--fill-color);\n",
              "    height: 32px;\n",
              "    padding: 0;\n",
              "    width: 32px;\n",
              "  }\n",
              "\n",
              "  .colab-df-quickchart:hover {\n",
              "    background-color: var(--hover-bg-color);\n",
              "    box-shadow: 0 1px 2px rgba(60, 64, 67, 0.3), 0 1px 3px 1px rgba(60, 64, 67, 0.15);\n",
              "    fill: var(--button-hover-fill-color);\n",
              "  }\n",
              "\n",
              "  .colab-df-quickchart-complete:disabled,\n",
              "  .colab-df-quickchart-complete:disabled:hover {\n",
              "    background-color: var(--disabled-bg-color);\n",
              "    fill: var(--disabled-fill-color);\n",
              "    box-shadow: none;\n",
              "  }\n",
              "\n",
              "  .colab-df-spinner {\n",
              "    border: 2px solid var(--fill-color);\n",
              "    border-color: transparent;\n",
              "    border-bottom-color: var(--fill-color);\n",
              "    animation:\n",
              "      spin 1s steps(1) infinite;\n",
              "  }\n",
              "\n",
              "  @keyframes spin {\n",
              "    0% {\n",
              "      border-color: transparent;\n",
              "      border-bottom-color: var(--fill-color);\n",
              "      border-left-color: var(--fill-color);\n",
              "    }\n",
              "    20% {\n",
              "      border-color: transparent;\n",
              "      border-left-color: var(--fill-color);\n",
              "      border-top-color: var(--fill-color);\n",
              "    }\n",
              "    30% {\n",
              "      border-color: transparent;\n",
              "      border-left-color: var(--fill-color);\n",
              "      border-top-color: var(--fill-color);\n",
              "      border-right-color: var(--fill-color);\n",
              "    }\n",
              "    40% {\n",
              "      border-color: transparent;\n",
              "      border-right-color: var(--fill-color);\n",
              "      border-top-color: var(--fill-color);\n",
              "    }\n",
              "    60% {\n",
              "      border-color: transparent;\n",
              "      border-right-color: var(--fill-color);\n",
              "    }\n",
              "    80% {\n",
              "      border-color: transparent;\n",
              "      border-right-color: var(--fill-color);\n",
              "      border-bottom-color: var(--fill-color);\n",
              "    }\n",
              "    90% {\n",
              "      border-color: transparent;\n",
              "      border-bottom-color: var(--fill-color);\n",
              "    }\n",
              "  }\n",
              "</style>\n",
              "\n",
              "  <script>\n",
              "    async function quickchart(key) {\n",
              "      const quickchartButtonEl =\n",
              "        document.querySelector('#' + key + ' button');\n",
              "      quickchartButtonEl.disabled = true;  // To prevent multiple clicks.\n",
              "      quickchartButtonEl.classList.add('colab-df-spinner');\n",
              "      try {\n",
              "        const charts = await google.colab.kernel.invokeFunction(\n",
              "            'suggestCharts', [key], {});\n",
              "      } catch (error) {\n",
              "        console.error('Error during call to suggestCharts:', error);\n",
              "      }\n",
              "      quickchartButtonEl.classList.remove('colab-df-spinner');\n",
              "      quickchartButtonEl.classList.add('colab-df-quickchart-complete');\n",
              "    }\n",
              "    (() => {\n",
              "      let quickchartButtonEl =\n",
              "        document.querySelector('#df-60a8af11-84fa-4f29-89d9-ecb34c5b2aea button');\n",
              "      quickchartButtonEl.style.display =\n",
              "        google.colab.kernel.accessAllowed ? 'block' : 'none';\n",
              "    })();\n",
              "  </script>\n",
              "</div>\n",
              "    </div>\n",
              "  </div>\n"
            ]
          },
          "metadata": {},
          "execution_count": 4
        }
      ]
    },
    {
      "cell_type": "markdown",
      "source": [],
      "metadata": {
        "id": "iRiyHMzvXT22"
      }
    },
    {
      "cell_type": "markdown",
      "source": [
        "---\n",
        "\n",
        "Ganti nama kolom"
      ],
      "metadata": {
        "id": "HIHE8J5uWdcb"
      }
    },
    {
      "cell_type": "code",
      "source": [
        "# mengganti nama kolom\n",
        "dataset.rename(columns={\"Regist. Store of Customers\": \"Regist Store\", \"Comp nm\": \"Comp Name\", \"Sale amt\": \"Sale Amount\"}, inplace=True)\n",
        "# cetak nama kolom\n",
        "for col in dataset.columns:\n",
        "    print(col)"
      ],
      "metadata": {
        "colab": {
          "base_uri": "https://localhost:8080/"
        },
        "id": "oH0M5DWdWrEV",
        "outputId": "b76334c7-e023-43a1-b5c6-04d5e879d7d1"
      },
      "execution_count": 5,
      "outputs": [
        {
          "output_type": "stream",
          "name": "stdout",
          "text": [
            "Regist Store\n",
            "Comp Name\n",
            "Sale Amount\n",
            "Visit Count\n",
            "Profit Amount\n"
          ]
        }
      ]
    },
    {
      "cell_type": "markdown",
      "source": [
        "---\n",
        "Hitung jumlah missing value"
      ],
      "metadata": {
        "id": "5oOmlFm8XVON"
      }
    },
    {
      "cell_type": "code",
      "source": [
        "# jumlah missing value\n",
        "dataset.isnull().sum()"
      ],
      "metadata": {
        "colab": {
          "base_uri": "https://localhost:8080/"
        },
        "id": "PCdqtLgOXjO-",
        "outputId": "666b64d6-104a-433d-c5dd-938b7bdd3ab1"
      },
      "execution_count": 6,
      "outputs": [
        {
          "output_type": "execute_result",
          "data": {
            "text/plain": [
              "Regist Store     1\n",
              "Comp Name        1\n",
              "Sale Amount      2\n",
              "Visit Count      3\n",
              "Profit Amount    1\n",
              "dtype: int64"
            ]
          },
          "metadata": {},
          "execution_count": 6
        }
      ]
    },
    {
      "cell_type": "markdown",
      "source": [
        "---\n",
        "Perbaiki missing value, dengan memanggil fungsi"
      ],
      "metadata": {
        "id": "TRTw4gMdYFls"
      }
    },
    {
      "cell_type": "code",
      "source": [
        "# Panggil fungsi dari sklearn untuk imput\n",
        "from sklearn.impute import SimpleImputer\n",
        "\n",
        "# Isi missing value dengan data yang dominan\n",
        "imputer_store = SimpleImputer(missing_values = np.nan, strategy='most_frequent')\n",
        "dataset['Regist Store'] = imputer_store.fit_transform(dataset[['Regist Store']])\n",
        "\n",
        "imputer_comp = SimpleImputer(missing_values = np.nan, strategy='most_frequent')\n",
        "dataset['Comp Name'] = imputer_comp.fit_transform(dataset[['Comp Name']])\n",
        "\n",
        "imputer_visit = SimpleImputer(missing_values = np.nan, strategy='most_frequent')\n",
        "dataset['Visit Count'] = imputer_visit.fit_transform(dataset[['Visit Count']])\n",
        "\n",
        "# Isi missing value dengan data rata-rata (mean)\n",
        "imputer_sale = SimpleImputer(missing_values=np.nan, strategy='mean')\n",
        "imputer_sale.fit(dataset[['Sale Amount']]) # fit kan\n",
        "dataset['Sale Amount'] = imputer_sale.transform(dataset[['Sale Amount']]) # transformkan\n",
        "\n",
        "imputer_profit = SimpleImputer(missing_values=np.nan, strategy='mean')\n",
        "imputer_profit.fit(dataset[['Profit Amount']]) # fit kan\n",
        "dataset['Profit Amount'] = imputer_profit.transform(dataset[['Profit Amount']]) # transformkan\n"
      ],
      "metadata": {
        "id": "bChcWjqJYMm-"
      },
      "execution_count": 11,
      "outputs": []
    },
    {
      "cell_type": "code",
      "source": [
        "# jumlah missing value\n",
        "dataset.isnull().sum()"
      ],
      "metadata": {
        "colab": {
          "base_uri": "https://localhost:8080/"
        },
        "id": "SBNCK06rbLLf",
        "outputId": "71777519-c105-44a4-dc2f-54ee9ecee868"
      },
      "execution_count": 12,
      "outputs": [
        {
          "output_type": "execute_result",
          "data": {
            "text/plain": [
              "Regist Store     0\n",
              "Comp Name        0\n",
              "Sale Amount      0\n",
              "Visit Count      0\n",
              "Profit Amount    0\n",
              "dtype: int64"
            ]
          },
          "metadata": {},
          "execution_count": 12
        }
      ]
    },
    {
      "cell_type": "code",
      "source": [
        "dataset.head()"
      ],
      "metadata": {
        "colab": {
          "base_uri": "https://localhost:8080/",
          "height": 246
        },
        "id": "Clej-uCibpQu",
        "outputId": "b7d9cb74-a621-4965-bcde-8e99d9fe597c"
      },
      "execution_count": 14,
      "outputs": [
        {
          "output_type": "execute_result",
          "data": {
            "text/plain": [
              "  Regist Store         Comp Name   Sale Amount  Visit Count  Profit Amount\n",
              "0     SEMARANG          TOKO ALI  4.710324e+08          4.0   2.079710e+05\n",
              "1     SEMARANG  TOKO PUTRA HIDUP  3.064744e+08          2.0  -1.287074e+05\n",
              "2     SEMARANG         TOKO EDIP  7.186429e+06          4.0   3.496440e+05\n",
              "3     SEMARANG          IMA MART  2.284920e+08          1.0  -1.106635e+07\n",
              "4     SEMARANG        TOKO RENNE  1.885440e+08          1.0  -5.927922e+06"
            ],
            "text/html": [
              "\n",
              "  <div id=\"df-4238ca3c-66ec-4912-a04a-26a8661411a5\" class=\"colab-df-container\">\n",
              "    <div>\n",
              "<style scoped>\n",
              "    .dataframe tbody tr th:only-of-type {\n",
              "        vertical-align: middle;\n",
              "    }\n",
              "\n",
              "    .dataframe tbody tr th {\n",
              "        vertical-align: top;\n",
              "    }\n",
              "\n",
              "    .dataframe thead th {\n",
              "        text-align: right;\n",
              "    }\n",
              "</style>\n",
              "<table border=\"1\" class=\"dataframe\">\n",
              "  <thead>\n",
              "    <tr style=\"text-align: right;\">\n",
              "      <th></th>\n",
              "      <th>Regist Store</th>\n",
              "      <th>Comp Name</th>\n",
              "      <th>Sale Amount</th>\n",
              "      <th>Visit Count</th>\n",
              "      <th>Profit Amount</th>\n",
              "    </tr>\n",
              "  </thead>\n",
              "  <tbody>\n",
              "    <tr>\n",
              "      <th>0</th>\n",
              "      <td>SEMARANG</td>\n",
              "      <td>TOKO ALI</td>\n",
              "      <td>4.710324e+08</td>\n",
              "      <td>4.0</td>\n",
              "      <td>2.079710e+05</td>\n",
              "    </tr>\n",
              "    <tr>\n",
              "      <th>1</th>\n",
              "      <td>SEMARANG</td>\n",
              "      <td>TOKO PUTRA HIDUP</td>\n",
              "      <td>3.064744e+08</td>\n",
              "      <td>2.0</td>\n",
              "      <td>-1.287074e+05</td>\n",
              "    </tr>\n",
              "    <tr>\n",
              "      <th>2</th>\n",
              "      <td>SEMARANG</td>\n",
              "      <td>TOKO EDIP</td>\n",
              "      <td>7.186429e+06</td>\n",
              "      <td>4.0</td>\n",
              "      <td>3.496440e+05</td>\n",
              "    </tr>\n",
              "    <tr>\n",
              "      <th>3</th>\n",
              "      <td>SEMARANG</td>\n",
              "      <td>IMA MART</td>\n",
              "      <td>2.284920e+08</td>\n",
              "      <td>1.0</td>\n",
              "      <td>-1.106635e+07</td>\n",
              "    </tr>\n",
              "    <tr>\n",
              "      <th>4</th>\n",
              "      <td>SEMARANG</td>\n",
              "      <td>TOKO RENNE</td>\n",
              "      <td>1.885440e+08</td>\n",
              "      <td>1.0</td>\n",
              "      <td>-5.927922e+06</td>\n",
              "    </tr>\n",
              "  </tbody>\n",
              "</table>\n",
              "</div>\n",
              "    <div class=\"colab-df-buttons\">\n",
              "\n",
              "  <div class=\"colab-df-container\">\n",
              "    <button class=\"colab-df-convert\" onclick=\"convertToInteractive('df-4238ca3c-66ec-4912-a04a-26a8661411a5')\"\n",
              "            title=\"Convert this dataframe to an interactive table.\"\n",
              "            style=\"display:none;\">\n",
              "\n",
              "  <svg xmlns=\"http://www.w3.org/2000/svg\" height=\"24px\" viewBox=\"0 -960 960 960\">\n",
              "    <path d=\"M120-120v-720h720v720H120Zm60-500h600v-160H180v160Zm220 220h160v-160H400v160Zm0 220h160v-160H400v160ZM180-400h160v-160H180v160Zm440 0h160v-160H620v160ZM180-180h160v-160H180v160Zm440 0h160v-160H620v160Z\"/>\n",
              "  </svg>\n",
              "    </button>\n",
              "\n",
              "  <style>\n",
              "    .colab-df-container {\n",
              "      display:flex;\n",
              "      gap: 12px;\n",
              "    }\n",
              "\n",
              "    .colab-df-convert {\n",
              "      background-color: #E8F0FE;\n",
              "      border: none;\n",
              "      border-radius: 50%;\n",
              "      cursor: pointer;\n",
              "      display: none;\n",
              "      fill: #1967D2;\n",
              "      height: 32px;\n",
              "      padding: 0 0 0 0;\n",
              "      width: 32px;\n",
              "    }\n",
              "\n",
              "    .colab-df-convert:hover {\n",
              "      background-color: #E2EBFA;\n",
              "      box-shadow: 0px 1px 2px rgba(60, 64, 67, 0.3), 0px 1px 3px 1px rgba(60, 64, 67, 0.15);\n",
              "      fill: #174EA6;\n",
              "    }\n",
              "\n",
              "    .colab-df-buttons div {\n",
              "      margin-bottom: 4px;\n",
              "    }\n",
              "\n",
              "    [theme=dark] .colab-df-convert {\n",
              "      background-color: #3B4455;\n",
              "      fill: #D2E3FC;\n",
              "    }\n",
              "\n",
              "    [theme=dark] .colab-df-convert:hover {\n",
              "      background-color: #434B5C;\n",
              "      box-shadow: 0px 1px 3px 1px rgba(0, 0, 0, 0.15);\n",
              "      filter: drop-shadow(0px 1px 2px rgba(0, 0, 0, 0.3));\n",
              "      fill: #FFFFFF;\n",
              "    }\n",
              "  </style>\n",
              "\n",
              "    <script>\n",
              "      const buttonEl =\n",
              "        document.querySelector('#df-4238ca3c-66ec-4912-a04a-26a8661411a5 button.colab-df-convert');\n",
              "      buttonEl.style.display =\n",
              "        google.colab.kernel.accessAllowed ? 'block' : 'none';\n",
              "\n",
              "      async function convertToInteractive(key) {\n",
              "        const element = document.querySelector('#df-4238ca3c-66ec-4912-a04a-26a8661411a5');\n",
              "        const dataTable =\n",
              "          await google.colab.kernel.invokeFunction('convertToInteractive',\n",
              "                                                    [key], {});\n",
              "        if (!dataTable) return;\n",
              "\n",
              "        const docLinkHtml = 'Like what you see? Visit the ' +\n",
              "          '<a target=\"_blank\" href=https://colab.research.google.com/notebooks/data_table.ipynb>data table notebook</a>'\n",
              "          + ' to learn more about interactive tables.';\n",
              "        element.innerHTML = '';\n",
              "        dataTable['output_type'] = 'display_data';\n",
              "        await google.colab.output.renderOutput(dataTable, element);\n",
              "        const docLink = document.createElement('div');\n",
              "        docLink.innerHTML = docLinkHtml;\n",
              "        element.appendChild(docLink);\n",
              "      }\n",
              "    </script>\n",
              "  </div>\n",
              "\n",
              "\n",
              "<div id=\"df-8c6ae88e-9ee9-4676-bc57-9fcaadc25e46\">\n",
              "  <button class=\"colab-df-quickchart\" onclick=\"quickchart('df-8c6ae88e-9ee9-4676-bc57-9fcaadc25e46')\"\n",
              "            title=\"Suggest charts.\"\n",
              "            style=\"display:none;\">\n",
              "\n",
              "<svg xmlns=\"http://www.w3.org/2000/svg\" height=\"24px\"viewBox=\"0 0 24 24\"\n",
              "     width=\"24px\">\n",
              "    <g>\n",
              "        <path d=\"M19 3H5c-1.1 0-2 .9-2 2v14c0 1.1.9 2 2 2h14c1.1 0 2-.9 2-2V5c0-1.1-.9-2-2-2zM9 17H7v-7h2v7zm4 0h-2V7h2v10zm4 0h-2v-4h2v4z\"/>\n",
              "    </g>\n",
              "</svg>\n",
              "  </button>\n",
              "\n",
              "<style>\n",
              "  .colab-df-quickchart {\n",
              "      --bg-color: #E8F0FE;\n",
              "      --fill-color: #1967D2;\n",
              "      --hover-bg-color: #E2EBFA;\n",
              "      --hover-fill-color: #174EA6;\n",
              "      --disabled-fill-color: #AAA;\n",
              "      --disabled-bg-color: #DDD;\n",
              "  }\n",
              "\n",
              "  [theme=dark] .colab-df-quickchart {\n",
              "      --bg-color: #3B4455;\n",
              "      --fill-color: #D2E3FC;\n",
              "      --hover-bg-color: #434B5C;\n",
              "      --hover-fill-color: #FFFFFF;\n",
              "      --disabled-bg-color: #3B4455;\n",
              "      --disabled-fill-color: #666;\n",
              "  }\n",
              "\n",
              "  .colab-df-quickchart {\n",
              "    background-color: var(--bg-color);\n",
              "    border: none;\n",
              "    border-radius: 50%;\n",
              "    cursor: pointer;\n",
              "    display: none;\n",
              "    fill: var(--fill-color);\n",
              "    height: 32px;\n",
              "    padding: 0;\n",
              "    width: 32px;\n",
              "  }\n",
              "\n",
              "  .colab-df-quickchart:hover {\n",
              "    background-color: var(--hover-bg-color);\n",
              "    box-shadow: 0 1px 2px rgba(60, 64, 67, 0.3), 0 1px 3px 1px rgba(60, 64, 67, 0.15);\n",
              "    fill: var(--button-hover-fill-color);\n",
              "  }\n",
              "\n",
              "  .colab-df-quickchart-complete:disabled,\n",
              "  .colab-df-quickchart-complete:disabled:hover {\n",
              "    background-color: var(--disabled-bg-color);\n",
              "    fill: var(--disabled-fill-color);\n",
              "    box-shadow: none;\n",
              "  }\n",
              "\n",
              "  .colab-df-spinner {\n",
              "    border: 2px solid var(--fill-color);\n",
              "    border-color: transparent;\n",
              "    border-bottom-color: var(--fill-color);\n",
              "    animation:\n",
              "      spin 1s steps(1) infinite;\n",
              "  }\n",
              "\n",
              "  @keyframes spin {\n",
              "    0% {\n",
              "      border-color: transparent;\n",
              "      border-bottom-color: var(--fill-color);\n",
              "      border-left-color: var(--fill-color);\n",
              "    }\n",
              "    20% {\n",
              "      border-color: transparent;\n",
              "      border-left-color: var(--fill-color);\n",
              "      border-top-color: var(--fill-color);\n",
              "    }\n",
              "    30% {\n",
              "      border-color: transparent;\n",
              "      border-left-color: var(--fill-color);\n",
              "      border-top-color: var(--fill-color);\n",
              "      border-right-color: var(--fill-color);\n",
              "    }\n",
              "    40% {\n",
              "      border-color: transparent;\n",
              "      border-right-color: var(--fill-color);\n",
              "      border-top-color: var(--fill-color);\n",
              "    }\n",
              "    60% {\n",
              "      border-color: transparent;\n",
              "      border-right-color: var(--fill-color);\n",
              "    }\n",
              "    80% {\n",
              "      border-color: transparent;\n",
              "      border-right-color: var(--fill-color);\n",
              "      border-bottom-color: var(--fill-color);\n",
              "    }\n",
              "    90% {\n",
              "      border-color: transparent;\n",
              "      border-bottom-color: var(--fill-color);\n",
              "    }\n",
              "  }\n",
              "</style>\n",
              "\n",
              "  <script>\n",
              "    async function quickchart(key) {\n",
              "      const quickchartButtonEl =\n",
              "        document.querySelector('#' + key + ' button');\n",
              "      quickchartButtonEl.disabled = true;  // To prevent multiple clicks.\n",
              "      quickchartButtonEl.classList.add('colab-df-spinner');\n",
              "      try {\n",
              "        const charts = await google.colab.kernel.invokeFunction(\n",
              "            'suggestCharts', [key], {});\n",
              "      } catch (error) {\n",
              "        console.error('Error during call to suggestCharts:', error);\n",
              "      }\n",
              "      quickchartButtonEl.classList.remove('colab-df-spinner');\n",
              "      quickchartButtonEl.classList.add('colab-df-quickchart-complete');\n",
              "    }\n",
              "    (() => {\n",
              "      let quickchartButtonEl =\n",
              "        document.querySelector('#df-8c6ae88e-9ee9-4676-bc57-9fcaadc25e46 button');\n",
              "      quickchartButtonEl.style.display =\n",
              "        google.colab.kernel.accessAllowed ? 'block' : 'none';\n",
              "    })();\n",
              "  </script>\n",
              "</div>\n",
              "    </div>\n",
              "  </div>\n"
            ]
          },
          "metadata": {},
          "execution_count": 14
        }
      ]
    },
    {
      "cell_type": "markdown",
      "source": [
        "# Membagi dataset ke dalam training set dan test set"
      ],
      "metadata": {
        "id": "1LUyLY7EmpzI"
      }
    },
    {
      "cell_type": "markdown",
      "source": [
        "Data yang saya gunakan hanya data yang berupa numerik sehingga saya hanya mengambil data dari kolom ke-3 dan ke-4,"
      ],
      "metadata": {
        "id": "uFnD4Y6hmtT3"
      }
    },
    {
      "cell_type": "code",
      "source": [
        "x = dataset.iloc[:, 2:4].values\n",
        "y = dataset.iloc[:,-1].values"
      ],
      "metadata": {
        "id": "nCx_wpJSm4eu"
      },
      "execution_count": 22,
      "outputs": []
    },
    {
      "cell_type": "code",
      "source": [
        "from sklearn.model_selection import train_test_split\n",
        "x_train, x_test, y_train, y_test = train_test_split(x, y,  test_size = 0.2, random_state = 1)"
      ],
      "metadata": {
        "id": "Dla4FxL3pGCw"
      },
      "execution_count": 33,
      "outputs": []
    },
    {
      "cell_type": "code",
      "source": [
        "print(x_train)"
      ],
      "metadata": {
        "colab": {
          "base_uri": "https://localhost:8080/"
        },
        "id": "VJtPtIKUpOL3",
        "outputId": "7a4e06e0-16fd-4858-f981-649112439e69"
      },
      "execution_count": 38,
      "outputs": [
        {
          "output_type": "stream",
          "name": "stdout",
          "text": [
            "[[2.41000e+06 1.00000e+00]\n",
            " [1.89000e+04 1.00000e+00]\n",
            " [3.84000e+04 1.00000e+00]\n",
            " ...\n",
            " [1.59634e+05 2.00000e+00]\n",
            " [4.38517e+06 3.00000e+00]\n",
            " [4.49303e+07 5.00000e+00]]\n"
          ]
        }
      ]
    },
    {
      "cell_type": "code",
      "source": [
        "print(x_test[:10])"
      ],
      "metadata": {
        "colab": {
          "base_uri": "https://localhost:8080/"
        },
        "id": "ykEoSfprpQoJ",
        "outputId": "7646e72a-8f84-4c65-e3c5-47fe71c92517"
      },
      "execution_count": 39,
      "outputs": [
        {
          "output_type": "stream",
          "name": "stdout",
          "text": [
            "[[1.523911e+06 2.000000e+00]\n",
            " [3.554940e+05 3.000000e+00]\n",
            " [1.830803e+06 3.000000e+00]\n",
            " [2.520000e+06 1.000000e+00]\n",
            " [4.246248e+06 2.000000e+00]\n",
            " [1.335000e+05 1.000000e+00]\n",
            " [3.845750e+06 2.000000e+00]\n",
            " [3.744000e+05 1.000000e+00]\n",
            " [3.025100e+06 4.000000e+00]\n",
            " [3.074740e+07 3.000000e+00]]\n"
          ]
        }
      ]
    },
    {
      "cell_type": "code",
      "source": [
        "print(y_train[:10])"
      ],
      "metadata": {
        "colab": {
          "base_uri": "https://localhost:8080/"
        },
        "id": "WywXAuW-tmuH",
        "outputId": "71c7358e-03dc-47c2-eccb-7cde1c36472e"
      },
      "execution_count": 43,
      "outputs": [
        {
          "output_type": "stream",
          "name": "stdout",
          "text": [
            "[     0.   4297.   6495.  23844. 135022. -31925.  86400. -42670. 287702.\n",
            "   8681.]\n"
          ]
        }
      ]
    },
    {
      "cell_type": "code",
      "source": [
        "print(y_test[:10])"
      ],
      "metadata": {
        "colab": {
          "base_uri": "https://localhost:8080/"
        },
        "id": "Z4OwVRdxtsRS",
        "outputId": "c50b5657-173e-4b99-cbf6-7b4f156a0b16"
      },
      "execution_count": 44,
      "outputs": [
        {
          "output_type": "stream",
          "name": "stdout",
          "text": [
            "[ 208838.   49369.   85950. -110464.   24770.    5159. -121708.   33368.\n",
            "  -64817.  446980.]\n"
          ]
        }
      ]
    },
    {
      "cell_type": "code",
      "source": [
        "from sklearn.preprocessing import StandardScaler\n",
        "sc = StandardScaler()\n",
        "\n",
        "x_train[:, -1:] = sc.fit_transform(x_train[:, -1:])\n",
        "x_test[:, -1:] = sc.transform(x_test[:, -1:])"
      ],
      "metadata": {
        "id": "9SRr9bVLtvWK"
      },
      "execution_count": 45,
      "outputs": []
    },
    {
      "cell_type": "markdown",
      "source": [],
      "metadata": {
        "id": "bfjjU4O4twkT"
      }
    },
    {
      "cell_type": "code",
      "source": [
        "print(x_train)"
      ],
      "metadata": {
        "colab": {
          "base_uri": "https://localhost:8080/"
        },
        "id": "zrXQtTJwtzJq",
        "outputId": "4629044d-feef-423d-983f-27021a7baed9"
      },
      "execution_count": 46,
      "outputs": [
        {
          "output_type": "stream",
          "name": "stdout",
          "text": [
            "[[ 2.41000000e+06 -4.45667342e-01]\n",
            " [ 1.89000000e+04 -4.45667342e-01]\n",
            " [ 3.84000000e+04 -4.45667342e-01]\n",
            " ...\n",
            " [ 1.59634000e+05 -7.77273279e-02]\n",
            " [ 4.38517000e+06  2.90212686e-01]\n",
            " [ 4.49303000e+07  1.02609271e+00]]\n"
          ]
        }
      ]
    },
    {
      "cell_type": "code",
      "source": [
        "print(x_test[:10])"
      ],
      "metadata": {
        "colab": {
          "base_uri": "https://localhost:8080/"
        },
        "id": "meH_n9jPuA6K",
        "outputId": "9c1ae83f-45d8-4002-a97f-dcd25b62091e"
      },
      "execution_count": 47,
      "outputs": [
        {
          "output_type": "stream",
          "name": "stdout",
          "text": [
            "[[ 1.52391100e+06 -7.77273279e-02]\n",
            " [ 3.55494000e+05  2.90212686e-01]\n",
            " [ 1.83080300e+06  2.90212686e-01]\n",
            " [ 2.52000000e+06 -4.45667342e-01]\n",
            " [ 4.24624800e+06 -7.77273279e-02]\n",
            " [ 1.33500000e+05 -4.45667342e-01]\n",
            " [ 3.84575000e+06 -7.77273279e-02]\n",
            " [ 3.74400000e+05 -4.45667342e-01]\n",
            " [ 3.02510000e+06  6.58152699e-01]\n",
            " [ 3.07474000e+07  2.90212686e-01]]\n"
          ]
        }
      ]
    }
  ]
}